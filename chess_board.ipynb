{
 "cells": [
  {
   "cell_type": "code",
   "execution_count": 4,
   "metadata": {},
   "outputs": [],
   "source": [
    "%matplotlib inline\n",
    "import numpy as np\n",
    "import matplotlib.pyplot as plt"
   ]
  },
  {
   "cell_type": "code",
   "execution_count": 129,
   "metadata": {},
   "outputs": [
    {
     "name": "stdout",
     "output_type": "stream",
     "text": [
      "False\n"
     ]
    },
    {
     "data": {
      "image/png": "[encoded data removed]",
      "text/plain": [
       "<Figure size 432x288 with 1 Axes>"
      ]
     },
     "metadata": {
      "needs_background": "light"
     },
     "output_type": "display_data"
    }
   ],
   "source": [
    "black_color=[0,0,0]\n",
    "white_color = [1,1,1]\n",
    "red_color = [1,.2,0]\n",
    "blue_color = [0,1,1]\n",
    "class ChessBoard:\n",
    "    \"\"\"\n",
    "    Description: This class defines the chess board with methods that enable us to add two different queens on the board \n",
    "\n",
    "    \"\"\"\n",
    "    def __init__(self):\n",
    "        self.grid=np.ones((8,8,3))\n",
    "        for row in range(8):\n",
    "            for col in range(8):\n",
    "                if (not col%2 and not row%2) or (col%2 and row%2):\n",
    "                    self.grid[row,col]=black_color\n",
    "        self.red_queen=[]\n",
    "        self.blue_queen=[]\n",
    "    \n",
    "\n",
    "    def add_red(self,row,col):\n",
    "        \"\"\"\n",
    "        Description: This method enable us to locate a red quuen on the board by the given location\n",
    "\n",
    "        Args:\n",
    "            row : type > Integer\n",
    "            col : type > Integer\n",
    "        \"\"\"\n",
    "        self.red_queen=row,col\n",
    "        self.grid[self.red_queen]=red_color\n",
    "        self.render()\n",
    "\n",
    "    def add_blue(self,row,col):\n",
    "        \"\"\"\n",
    "        Description: This method enable us to locate a red quuen on the board by the given location\n",
    "\n",
    "        Args:\n",
    "            row : type > Integer\n",
    "            col : type > Integer\n",
    "        \"\"\"\n",
    "        self.blue_queen=row,col\n",
    "        self.grid[self.blue_queen]=blue_color\n",
    "        self.render()\n",
    "\n",
    "    def render(self):\n",
    "        \"\"\"\n",
    "        Description: This method renders the chess board with the red and blue quenns located before \n",
    "\n",
    "        \"\"\"\n",
    "        plt.imshow(self.grid)\n",
    "\n",
    "    def is_under_attack(self):\n",
    "        \"\"\"\n",
    "        Description: This method teels us if the queens are atacking each other horizontally, vertically or diagonally\n",
    "\n",
    "        Returns:\n",
    "            True: if the queens are one attack\n",
    "            False: if the queens are safe\n",
    "        \"\"\"\n",
    "        if self.red_queen[0]==self.blue_queen[0]:\n",
    "            return True\n",
    "        elif self.red_queen[1]==self.blue_queen[1]:\n",
    "            return True\n",
    "        elif abs(self.red_queen[0] - self.blue_queen[0]) == abs(self.red_queen[1] - self.blue_queen[1]):\n",
    "            return True\n",
    "        return False\n",
    "\n",
    "f=ChessBoard()\n",
    "f.add_red(0,0)\n",
    "f.add_blue(2,1)\n",
    "tr=f.is_under_attack()\n",
    "print(tr)\n",
    "\n"
   ]
  },
  {
   "cell_type": "code",
   "execution_count": 132,
   "metadata": {},
   "outputs": [
    {
     "name": "stdout",
     "output_type": "stream",
     "text": [
      "> Queens under attack\n"
     ]
    },
    {
     "data": {
      "image/png": "[encoded data removed]",
      "text/plain": [
       "<Figure size 432x288 with 1 Axes>"
      ]
     },
     "metadata": {
      "needs_background": "light"
     },
     "output_type": "display_data"
    }
   ],
   "source": [
    "def test_is_under_attack_diagonally():\n",
    "    #Arrange\n",
    "    chess = ChessBoard()\n",
    "    chess.add_red(0,0)\n",
    "    chess.add_blue(2,2)\n",
    "    chess.render()\n",
    "    expected =True\n",
    "\n",
    "\n",
    "    #Act\n",
    "    actual = chess.is_under_attack()\n",
    "    \n",
    "    #Assert\n",
    "    assert actual == expected\n",
    "\n",
    "    # print\n",
    "    print('> Queens under attack')\n",
    "test_is_under_attack_diagonally()"
   ]
  },
  {
   "cell_type": "code",
   "execution_count": 133,
   "metadata": {},
   "outputs": [
    {
     "name": "stdout",
     "output_type": "stream",
     "text": [
      "> Queens under attack\n"
     ]
    },
    {
     "data": {
      "image/png": "[encoded data removed]",
      "text/plain": [
       "<Figure size 432x288 with 1 Axes>"
      ]
     },
     "metadata": {
      "needs_background": "light"
     },
     "output_type": "display_data"
    }
   ],
   "source": [
    "def test_is_under_attack_vertically():\n",
    "    #Arrange\n",
    "    chess = ChessBoard()\n",
    "    chess.add_red(0,0)\n",
    "    chess.add_blue(2,0)\n",
    "    chess.render()\n",
    "    expected =True\n",
    "\n",
    "\n",
    "    #Act\n",
    "    actual = chess.is_under_attack()\n",
    "    \n",
    "    #Assert\n",
    "    assert actual == expected\n",
    "    \n",
    "    # print\n",
    "    print('> Queens under attack')\n",
    "test_is_under_attack_vertically()"
   ]
  },
  {
   "cell_type": "code",
   "execution_count": 124,
   "metadata": {},
   "outputs": [
    {
     "name": "stdout",
     "output_type": "stream",
     "text": [
      "True > Queens under attack\n"
     ]
    },
    {
     "data": {
      "image/png": "[encoded data removed]",
      "text/plain": [
       "<Figure size 432x288 with 1 Axes>"
      ]
     },
     "metadata": {
      "needs_background": "light"
     },
     "output_type": "display_data"
    }
   ],
   "source": [
    "def test_is_under_attack_horizontally():\n",
    "    #Arrange\n",
    "    chess = ChessBoard()\n",
    "    chess.add_red(0,0)\n",
    "    chess.add_blue(0,2)\n",
    "    chess.render()\n",
    "    expected =True\n",
    "\n",
    "\n",
    "    #Act\n",
    "    actual = chess.is_under_attack()\n",
    "    \n",
    "    #Assert\n",
    "    assert actual == expected\n",
    "\n",
    "    # print\n",
    "    print('> Queens under attack')\n",
    "test_is_under_attack_horizontally()"
   ]
  },
  {
   "cell_type": "code",
   "execution_count": 135,
   "metadata": {},
   "outputs": [
    {
     "name": "stdout",
     "output_type": "stream",
     "text": [
      "> Queens are safe\n"
     ]
    },
    {
     "data": {
      "image/png": "[encoded data removed]",
      "text/plain": [
       "<Figure size 432x288 with 1 Axes>"
      ]
     },
     "metadata": {
      "needs_background": "light"
     },
     "output_type": "display_data"
    }
   ],
   "source": [
    "def test_is_under_attack_safe_queens():\n",
    "    #Arrange\n",
    "    chess = ChessBoard()\n",
    "    chess.add_red(0,0)\n",
    "    chess.add_blue(1,2)\n",
    "    chess.render()\n",
    "    expected =False\n",
    "\n",
    "\n",
    "    #Act\n",
    "    actual = chess.is_under_attack()\n",
    "    \n",
    "    #Assert\n",
    "    assert actual == expected\n",
    "\n",
    "    # print\n",
    "    print('> Queens are safe')\n",
    "test_is_under_attack_safe_queens()"
   ]
  }
 ],
 "metadata": {
  "interpreter": {
   "hash": "bc7613a2ab08e0971988c646142777f01166da45ece0dfca9028781d19d14353"
  },
  "kernelspec": {
   "display_name": "Python 3 (ipykernel)",
   "language": "python",
   "name": "python3"
  },
  "language_info": {
   "codemirror_mode": {
    "name": "ipython",
    "version": 3
   },
   "file_extension": ".py",
   "mimetype": "text/x-python",
   "name": "python",
   "nbconvert_exporter": "python",
   "pygments_lexer": "ipython3",
   "version": "3.9.5"
  }
 },
 "nbformat": 4,
 "nbformat_minor": 4
}
